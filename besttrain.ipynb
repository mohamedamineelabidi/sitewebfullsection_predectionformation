{
 "cells": [
  {
   "cell_type": "code",
   "execution_count": 3,
   "metadata": {},
   "outputs": [],
   "source": [
    "import pandas as pd\n",
    "from sklearn.preprocessing import LabelEncoder\n",
    "from sklearn.model_selection import train_test_split\n",
    "from sklearn.ensemble import RandomForestClassifier\n",
    "from sklearn.metrics import classification_report, accuracy_score\n",
    "from imblearn.over_sampling import RandomOverSampler\n",
    "import joblib"
   ]
  },
  {
   "cell_type": "code",
   "execution_count": 4,
   "metadata": {},
   "outputs": [
    {
     "name": "stdout",
     "output_type": "stream",
     "text": [
      "Index(['Formation', 'xG', 'xGA', 'Poss', 'xA', 'KP', 'PPA', 'PrgP'], dtype='object')\n"
     ]
    }
   ],
   "source": [
    "# Chargement des données\n",
    "data = pd.read_excel('Cleaned_Combined_Clubs_finals.xlsx')\n",
    "\n",
    "# Affichage des colonnes du dataset\n",
    "print(data.columns)"
   ]
  },
  {
   "cell_type": "code",
   "execution_count": 5,
   "metadata": {},
   "outputs": [],
   "source": [
    "# Encodage de la variable cible (formations)\n",
    "y = data['Formation']\n",
    "\n",
    "label_encoder = LabelEncoder()\n",
    "y_encoded = label_encoder.fit_transform(y)\n",
    "X = data[['xG', 'xGA', 'Poss', 'xA', 'KP', 'PPA', 'PrgP']]\n",
    "\n",
    "# Sur-échantillonnage avec RandomOverSampler pour gérer le déséquilibre des classes\n",
    "oversampler = RandomOverSampler(random_state=42)\n",
    "X_resampled, y_resampled = oversampler.fit_resample(X, y_encoded)\n",
    "\n",
    "# Séparation du dataset en ensembles d'entraînement et de test\n",
    "X_train, X_test, y_train, y_test = train_test_split(X_resampled, y_resampled, test_size=0.2, random_state=42)"
   ]
  },
  {
   "cell_type": "code",
   "execution_count": 6,
   "metadata": {},
   "outputs": [
    {
     "name": "stdout",
     "output_type": "stream",
     "text": [
      "              precision    recall  f1-score   support\n",
      "\n",
      "           0       0.97      1.00      0.99       230\n",
      "           1       0.97      1.00      0.99       222\n",
      "           2       1.00      1.00      1.00       227\n",
      "           3       0.93      0.95      0.94       240\n",
      "           4       0.70      0.65      0.68       222\n",
      "           5       1.00      1.00      1.00       242\n",
      "           6       0.99      1.00      1.00       228\n",
      "           7       0.87      0.86      0.86       233\n",
      "           8       0.99      1.00      0.99       253\n",
      "           9       0.91      1.00      0.95       212\n",
      "          10       0.95      0.99      0.97       224\n",
      "          11       0.98      0.97      0.98       232\n",
      "          12       0.55      0.35      0.42       231\n",
      "          13       1.00      1.00      1.00       213\n",
      "          14       0.91      0.97      0.94       240\n",
      "          15       1.00      1.00      1.00       236\n",
      "          16       0.73      0.64      0.68       236\n",
      "          17       0.98      0.99      0.98       230\n",
      "          18       0.81      0.92      0.86       229\n",
      "          19       0.97      1.00      0.99       225\n",
      "          20       0.95      1.00      0.97       210\n",
      "          21       0.94      0.97      0.96       241\n",
      "          22       0.99      1.00      0.99       225\n",
      "\n",
      "    accuracy                           0.92      5281\n",
      "   macro avg       0.92      0.92      0.92      5281\n",
      "weighted avg       0.92      0.92      0.92      5281\n",
      "\n",
      "Accuracy: 0.9244461276273434\n"
     ]
    }
   ],
   "source": [
    "# Initialisation du modèle Random Forest\n",
    "rf_model = RandomForestClassifier(random_state=42)\n",
    "\n",
    "# Entraînement du modèle\n",
    "rf_model.fit(X_train, y_train)\n",
    "\n",
    "# Prédictions sur l'ensemble de test\n",
    "y_pred = rf_model.predict(X_test)\n",
    "\n",
    "# Rapport de classification et précision\n",
    "print(classification_report(y_test, y_pred))\n",
    "print(f\"Accuracy: {accuracy_score(y_test, y_pred)}\")"
   ]
  },
  {
   "cell_type": "code",
   "execution_count": 7,
   "metadata": {},
   "outputs": [],
   "source": [
    "# Sauvegarde du modèle\n",
    "joblib.dump(rf_model, 'best_rf_model.pkl')\n"
   ]
  },
  {
   "cell_type": "code",
   "execution_count": 8,
   "metadata": {},
   "outputs": [],
   "source": [
    "# Chargement du modèle\n",
    "best_rf_model = joblib.load('best_rf_model.pkl')"
   ]
  },
  {
   "cell_type": "code",
   "execution_count": 9,
   "metadata": {},
   "outputs": [
    {
     "name": "stdout",
     "output_type": "stream",
     "text": [
      "Predicted formation: 4-3-3\n"
     ]
    }
   ],
   "source": [
    "# Exemple de nouvelles données pour la prédiction\n",
    "#les donnees de belguim\n",
    "new_data = pd.DataFrame({\n",
    "    'xG': [1.5], 'xGA': [2.6], 'Poss': [67], 'xA': [0.4], 'KP': [5], 'PPA': [9], 'PrgP': [53]\n",
    "})\n",
    "\n",
    "# Prédictions\n",
    "predicted_formation = best_rf_model.predict(new_data)\n",
    "\n",
    "# Conversion de la prédiction numérique en label de formation d'origine\n",
    "predicted_formation_label = label_encoder.inverse_transform(predicted_formation)\n",
    "\n",
    "print(f\"Predicted formation: {predicted_formation_label[0]}\")"
   ]
  }
 ],
 "metadata": {
  "kernelspec": {
   "display_name": "Python 3",
   "language": "python",
   "name": "python3"
  },
  "language_info": {
   "codemirror_mode": {
    "name": "ipython",
    "version": 3
   },
   "file_extension": ".py",
   "mimetype": "text/x-python",
   "name": "python",
   "nbconvert_exporter": "python",
   "pygments_lexer": "ipython3",
   "version": "3.10.5"
  }
 },
 "nbformat": 4,
 "nbformat_minor": 2
}
